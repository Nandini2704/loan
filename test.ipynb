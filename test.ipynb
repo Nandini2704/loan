{
 "cells": [
  {
   "cell_type": "code",
   "execution_count": 11,
   "metadata": {},
   "outputs": [],
   "source": [
    "import pandas as pd\n",
    "import numpy as np\n",
    "\n",
    "# Read the CSV file\n",
    "def read_csv(file_path):\n",
    "    return pd.read_csv(file_path)\n",
    "\n",
    "# Define augmentation techniques with increased variations\n",
    "def add_noise(df, noise_level=0.05):\n",
    "    noisy_df = df.copy()\n",
    "    for col in noisy_df.select_dtypes(include=np.number).columns:\n",
    "        noise = np.random.normal(0, noise_level, size=noisy_df[col].shape)\n",
    "        noisy_df[col] += noise\n",
    "    return noisy_df\n",
    "\n",
    "def scale_data(df, scale_factor=1.5):\n",
    "    scaled_df = df.copy()\n",
    "    for col in scaled_df.select_dtypes(include=np.number).columns:\n",
    "        scaled_df[col] *= scale_factor\n",
    "    return scaled_df\n",
    "\n",
    "def shuffle_data(df):\n",
    "    return df.sample(frac=1).reset_index(drop=True)\n",
    "\n",
    "def drop_columns(df, fraction=0.2):\n",
    "    dropped_df = df.copy()\n",
    "    cols_to_drop = np.random.choice(dropped_df.columns, size=int(len(dropped_df.columns) * fraction), replace=False)\n",
    "    dropped_df.drop(columns=cols_to_drop, inplace=True)\n",
    "    return dropped_df\n",
    "\n",
    "def duplicate_rows(df, factor=3):\n",
    "    return pd.concat([df] * factor, ignore_index=True)\n",
    "\n",
    "# Apply augmentations\n",
    "def augment_data(df):\n",
    "    augmented_dfs = []\n",
    "\n",
    "    # Apply multiple augmentations\n",
    "    augmented_dfs.append(add_noise(df))\n",
    "    augmented_dfs.append(scale_data(df))\n",
    "    augmented_dfs.append(shuffle_data(df))\n",
    "    augmented_dfs.append(drop_columns(df))\n",
    "    augmented_dfs.append(duplicate_rows(df))\n",
    "\n",
    "    # Optionally apply combinations\n",
    "    num_augmentations = 3\n",
    "    for _ in range(num_augmentations):\n",
    "        augmented_dfs.append(add_noise(df))\n",
    "        augmented_dfs.append(scale_data(df))\n",
    "        augmented_dfs.append(shuffle_data(df))\n",
    "        augmented_dfs.append(drop_columns(df))\n",
    "        augmented_dfs.append(duplicate_rows(df))\n",
    "\n",
    "    return pd.concat(augmented_dfs, ignore_index=True)\n",
    "\n",
    "# Save the augmented data to a new CSV file\n",
    "def save_csv(df, file_path):\n",
    "    df.to_csv(file_path, index=False)\n",
    "\n",
    "# Example usage\n",
    "file_path = 'loan_approval_dataset (1).csv'\n",
    "df = read_csv(file_path)\n",
    "augmented_df = augment_data(df)\n",
    "save_csv(augmented_df, 'augmented_data.csv')\n"
   ]
  },
  {
   "cell_type": "code",
   "execution_count": 7,
   "metadata": {},
   "outputs": [
    {
     "data": {
      "text/plain": [
       "(4269, 13)"
      ]
     },
     "execution_count": 7,
     "metadata": {},
     "output_type": "execute_result"
    }
   ],
   "source": [
    "loan_data=pd.read_csv('loan_approval_dataset (1).csv')\n",
    "loan_data.shape"
   ]
  },
  {
   "cell_type": "code",
   "execution_count": 8,
   "metadata": {},
   "outputs": [
    {
     "data": {
      "text/plain": [
       "(119532, 13)"
      ]
     },
     "execution_count": 8,
     "metadata": {},
     "output_type": "execute_result"
    }
   ],
   "source": [
    "augment_data=pd.read_csv('augmented_data.csv')\n",
    "augment_data.shape"
   ]
  },
  {
   "cell_type": "code",
   "execution_count": null,
   "metadata": {},
   "outputs": [],
   "source": []
  }
 ],
 "metadata": {
  "kernelspec": {
   "display_name": "Python 3",
   "language": "python",
   "name": "python3"
  },
  "language_info": {
   "codemirror_mode": {
    "name": "ipython",
    "version": 3
   },
   "file_extension": ".py",
   "mimetype": "text/x-python",
   "name": "python",
   "nbconvert_exporter": "python",
   "pygments_lexer": "ipython3",
   "version": "3.10.5"
  }
 },
 "nbformat": 4,
 "nbformat_minor": 2
}
